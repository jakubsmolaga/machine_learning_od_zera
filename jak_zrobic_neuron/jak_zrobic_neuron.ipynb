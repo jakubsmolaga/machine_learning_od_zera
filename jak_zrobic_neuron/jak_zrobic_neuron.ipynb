{
 "cells": [
  {
   "cell_type": "markdown",
   "metadata": {},
   "source": [
    "# 1. Wpisz dane"
   ]
  },
  {
   "cell_type": "code",
   "execution_count": 34,
   "metadata": {},
   "outputs": [],
   "source": [
    "dane =   [[0,0,0],[0,0,1],[0,1,1],[1,0,0],[1,0,1],[1,1,0],[1,1,1]]\n",
    "wyniki = [   0,      0,      1,      0,      0,      0,      1,  ]\n",
    "# w danych nie ma przypadku [0,1,0]"
   ]
  },
  {
   "cell_type": "markdown",
   "metadata": {},
   "source": [
    "# 2. Stwórz klasę \"neuron\""
   ]
  },
  {
   "cell_type": "code",
   "execution_count": 35,
   "metadata": {},
   "outputs": [],
   "source": [
    "class Neuron:\n",
    "    def __init__(self):\n",
    "        self.w = [0,0,0]\n",
    "        self.b = 0\n",
    "        self.lr = 0.1\n",
    "    def policz_wynik(self,x):\n",
    "        wynik = self.b\n",
    "        for xi,wi in zip(x,self.w):\n",
    "            wynik += xi*wi\n",
    "        if wynik > 1: wynik = 1\n",
    "        if wynik < 0: wynik = 0\n",
    "        return wynik\n",
    "    def ucz_sie(self,x,y):\n",
    "        wynik = self.policz_wynik(x)\n",
    "        for i in range(len(x)):\n",
    "            self.w[i] += x[i]*(y-wynik)  *self.lr\n",
    "        self.b += (y-wynik)  *self.lr"
   ]
  },
  {
   "cell_type": "markdown",
   "metadata": {},
   "source": [
    "# 3. Stwórz obiekt klasy neuron i rozpocznij naukę"
   ]
  },
  {
   "cell_type": "code",
   "execution_count": 36,
   "metadata": {},
   "outputs": [],
   "source": [
    "neuronik = Neuron()"
   ]
  },
  {
   "cell_type": "code",
   "execution_count": 37,
   "metadata": {},
   "outputs": [],
   "source": [
    "for _ in range(100):\n",
    "    for x,y in zip(dane, wyniki):\n",
    "        neuronik.ucz_sie(x,y)"
   ]
  },
  {
   "cell_type": "markdown",
   "metadata": {},
   "source": [
    "# 4. Wypisz wyniki"
   ]
  },
  {
   "cell_type": "code",
   "execution_count": 38,
   "metadata": {},
   "outputs": [
    {
     "name": "stdout",
     "output_type": "stream",
     "text": [
      "wynik dla [0, 0, 0] to 0\n",
      "wynik dla [0, 0, 1] to 0.033361686860897466\n",
      "wynik dla [0, 1, 1] to 1\n",
      "wynik dla [1, 0, 0] to 0\n",
      "wynik dla [1, 0, 1] to 0\n",
      "wynik dla [1, 1, 0] to 0.04739194725553142\n",
      "wynik dla [1, 1, 1] to 0.9683453600105879\n",
      "wynik dla [0, 1, 0] to 0.09059653546970958\n"
     ]
    }
   ],
   "source": [
    "for x in dane:\n",
    "    print('wynik dla',x,'to',neuronik.policz_wynik(x))\n",
    "print('wynik dla [0, 1, 0] to',neuronik.policz_wynik([0,1,0]))"
   ]
  }
 ],
 "metadata": {
  "kernelspec": {
   "display_name": "Python 3",
   "language": "python",
   "name": "python3"
  },
  "language_info": {
   "codemirror_mode": {
    "name": "ipython",
    "version": 3
   },
   "file_extension": ".py",
   "mimetype": "text/x-python",
   "name": "python",
   "nbconvert_exporter": "python",
   "pygments_lexer": "ipython3",
   "version": "3.6.3"
  }
 },
 "nbformat": 4,
 "nbformat_minor": 2
}
